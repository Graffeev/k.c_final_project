{
 "cells": [
  {
   "cell_type": "code",
   "execution_count": 61,
   "metadata": {},
   "outputs": [],
   "source": [
    "import pandas as pd\n",
    "import numpy as np\n",
    "import seaborn as sns\n",
    "from scipy import stats\n",
    "from scipy.stats import norm, mannwhitneyu\n",
    "import pylab\n",
    "\n",
    "from tqdm.auto import tqdm\n",
    "import random\n",
    "import matplotlib.pyplot as plt\n",
    "import matplotlib.mlab as mlab\n",
    "import matplotlib\n",
    "plt.style.use('ggplot')\n",
    "from matplotlib.pyplot import figure\n",
    "\n",
    "%matplotlib inline\n",
    "matplotlib.rcParams['figure.figsize'] = (12,8)\n",
    "\n",
    "pd.options.mode.chained_assignment = None"
   ]
  },
  {
   "cell_type": "code",
   "execution_count": 62,
   "metadata": {},
   "outputs": [],
   "source": [
    "groups = pd.read_csv(\"Проект_2_groups.csv\", sep=\";\")\n",
    "#\n",
    "group_add = pd.read_csv(\"Проект_2_group_add.csv\", sep=\",\")\n",
    "\n",
    "active_studs = pd.read_csv(\"Проект_2_active_studs.csv\", sep=\";\")\n",
    "\n",
    "checks = pd.read_csv(\"Проект_2_checks.csv\", sep=\";\")\n"
   ]
  },
  {
   "cell_type": "code",
   "execution_count": 63,
   "metadata": {},
   "outputs": [
    {
     "data": {
      "text/plain": [
       "id     0\n",
       "grp    0\n",
       "dtype: int64"
      ]
     },
     "execution_count": 63,
     "metadata": {},
     "output_type": "execute_result"
    }
   ],
   "source": [
    "groups.isna().sum()"
   ]
  },
  {
   "cell_type": "code",
   "execution_count": 64,
   "metadata": {},
   "outputs": [
    {
     "data": {
      "text/plain": [
       "id     0\n",
       "grp    0\n",
       "dtype: int64"
      ]
     },
     "execution_count": 64,
     "metadata": {},
     "output_type": "execute_result"
    }
   ],
   "source": [
    "group_add.isna().sum()"
   ]
  },
  {
   "cell_type": "code",
   "execution_count": 65,
   "metadata": {},
   "outputs": [
    {
     "data": {
      "text/plain": [
       "student_id    0\n",
       "dtype: int64"
      ]
     },
     "execution_count": 65,
     "metadata": {},
     "output_type": "execute_result"
    }
   ],
   "source": [
    "active_studs.isna().sum()"
   ]
  },
  {
   "cell_type": "code",
   "execution_count": 66,
   "metadata": {},
   "outputs": [
    {
     "data": {
      "text/plain": [
       "student_id    0\n",
       "rev           0\n",
       "dtype: int64"
      ]
     },
     "execution_count": 66,
     "metadata": {},
     "output_type": "execute_result"
    }
   ],
   "source": [
    "checks.isna().sum()"
   ]
  },
  {
   "cell_type": "markdown",
   "metadata": {},
   "source": [
    "Пропуски отсутвуют!👍"
   ]
  },
  {
   "cell_type": "code",
   "execution_count": 67,
   "metadata": {},
   "outputs": [],
   "source": [
    "active_studs['active'] = 1\n",
    "checks['bought'] = 1"
   ]
  },
  {
   "cell_type": "code",
   "execution_count": 68,
   "metadata": {},
   "outputs": [
    {
     "data": {
      "text/html": [
       "<div>\n",
       "<style scoped>\n",
       "    .dataframe tbody tr th:only-of-type {\n",
       "        vertical-align: middle;\n",
       "    }\n",
       "\n",
       "    .dataframe tbody tr th {\n",
       "        vertical-align: top;\n",
       "    }\n",
       "\n",
       "    .dataframe thead th {\n",
       "        text-align: right;\n",
       "    }\n",
       "</style>\n",
       "<table border=\"1\" class=\"dataframe\">\n",
       "  <thead>\n",
       "    <tr style=\"text-align: right;\">\n",
       "      <th></th>\n",
       "      <th>student_id</th>\n",
       "      <th>active</th>\n",
       "      <th>id</th>\n",
       "      <th>grp</th>\n",
       "      <th>rev</th>\n",
       "      <th>bought</th>\n",
       "    </tr>\n",
       "  </thead>\n",
       "  <tbody>\n",
       "    <tr>\n",
       "      <th>0</th>\n",
       "      <td>581585</td>\n",
       "      <td>1</td>\n",
       "      <td>581585</td>\n",
       "      <td>A</td>\n",
       "      <td>NaN</td>\n",
       "      <td>NaN</td>\n",
       "    </tr>\n",
       "    <tr>\n",
       "      <th>1</th>\n",
       "      <td>5723133</td>\n",
       "      <td>1</td>\n",
       "      <td>5723133</td>\n",
       "      <td>A</td>\n",
       "      <td>NaN</td>\n",
       "      <td>NaN</td>\n",
       "    </tr>\n",
       "    <tr>\n",
       "      <th>2</th>\n",
       "      <td>3276743</td>\n",
       "      <td>1</td>\n",
       "      <td>3276743</td>\n",
       "      <td>B</td>\n",
       "      <td>NaN</td>\n",
       "      <td>NaN</td>\n",
       "    </tr>\n",
       "    <tr>\n",
       "      <th>3</th>\n",
       "      <td>4238589</td>\n",
       "      <td>1</td>\n",
       "      <td>4238589</td>\n",
       "      <td>A</td>\n",
       "      <td>NaN</td>\n",
       "      <td>NaN</td>\n",
       "    </tr>\n",
       "    <tr>\n",
       "      <th>4</th>\n",
       "      <td>4475369</td>\n",
       "      <td>1</td>\n",
       "      <td>4475369</td>\n",
       "      <td>B</td>\n",
       "      <td>NaN</td>\n",
       "      <td>NaN</td>\n",
       "    </tr>\n",
       "    <tr>\n",
       "      <th>...</th>\n",
       "      <td>...</td>\n",
       "      <td>...</td>\n",
       "      <td>...</td>\n",
       "      <td>...</td>\n",
       "      <td>...</td>\n",
       "      <td>...</td>\n",
       "    </tr>\n",
       "    <tr>\n",
       "      <th>8336</th>\n",
       "      <td>1794344</td>\n",
       "      <td>1</td>\n",
       "      <td>1794344</td>\n",
       "      <td>B</td>\n",
       "      <td>NaN</td>\n",
       "      <td>NaN</td>\n",
       "    </tr>\n",
       "    <tr>\n",
       "      <th>8337</th>\n",
       "      <td>296883</td>\n",
       "      <td>1</td>\n",
       "      <td>296883</td>\n",
       "      <td>B</td>\n",
       "      <td>NaN</td>\n",
       "      <td>NaN</td>\n",
       "    </tr>\n",
       "    <tr>\n",
       "      <th>8338</th>\n",
       "      <td>3598448</td>\n",
       "      <td>1</td>\n",
       "      <td>3598448</td>\n",
       "      <td>B</td>\n",
       "      <td>NaN</td>\n",
       "      <td>NaN</td>\n",
       "    </tr>\n",
       "    <tr>\n",
       "      <th>8339</th>\n",
       "      <td>3610547</td>\n",
       "      <td>1</td>\n",
       "      <td>3610547</td>\n",
       "      <td>B</td>\n",
       "      <td>290.0</td>\n",
       "      <td>1.0</td>\n",
       "    </tr>\n",
       "    <tr>\n",
       "      <th>8340</th>\n",
       "      <td>205705</td>\n",
       "      <td>1</td>\n",
       "      <td>205705</td>\n",
       "      <td>B</td>\n",
       "      <td>NaN</td>\n",
       "      <td>NaN</td>\n",
       "    </tr>\n",
       "  </tbody>\n",
       "</table>\n",
       "<p>8341 rows × 6 columns</p>\n",
       "</div>"
      ],
      "text/plain": [
       "      student_id  active       id grp    rev  bought\n",
       "0         581585       1   581585   A    NaN     NaN\n",
       "1        5723133       1  5723133   A    NaN     NaN\n",
       "2        3276743       1  3276743   B    NaN     NaN\n",
       "3        4238589       1  4238589   A    NaN     NaN\n",
       "4        4475369       1  4475369   B    NaN     NaN\n",
       "...          ...     ...      ...  ..    ...     ...\n",
       "8336     1794344       1  1794344   B    NaN     NaN\n",
       "8337      296883       1   296883   B    NaN     NaN\n",
       "8338     3598448       1  3598448   B    NaN     NaN\n",
       "8339     3610547       1  3610547   B  290.0     1.0\n",
       "8340      205705       1   205705   B    NaN     NaN\n",
       "\n",
       "[8341 rows x 6 columns]"
      ]
     },
     "execution_count": 68,
     "metadata": {},
     "output_type": "execute_result"
    }
   ],
   "source": [
    "#Обьединим все датасеты в один большой датасет\n",
    "\n",
    "full_group = pd.concat([groups, group_add], ignore_index=True)\n",
    "\n",
    "d = active_studs.merge(full_group, left_on='student_id', right_on='id')\n",
    "\n",
    "df = d.merge(checks, how='left', on='student_id')\n",
    "df"
   ]
  },
  {
   "cell_type": "code",
   "execution_count": 69,
   "metadata": {},
   "outputs": [
    {
     "name": "stdout",
     "output_type": "stream",
     "text": [
      "(8341, 4)\n",
      "(8341, 2)\n"
     ]
    }
   ],
   "source": [
    "print(d.shape)\n",
    "print(active_studs.shape)"
   ]
  },
  {
   "cell_type": "markdown",
   "metadata": {},
   "source": [
    "Метрики которые нас интересуют: \n",
    "кол-во активных пользователей и чеков, \n",
    "медианный, средний, максимальный и минимальный чеки, ну и конверсию, конечно же"
   ]
  },
  {
   "cell_type": "code",
   "execution_count": 70,
   "metadata": {},
   "outputs": [
    {
     "data": {
      "text/html": [
       "<div>\n",
       "<style scoped>\n",
       "    .dataframe tbody tr th:only-of-type {\n",
       "        vertical-align: middle;\n",
       "    }\n",
       "\n",
       "    .dataframe tbody tr th {\n",
       "        vertical-align: top;\n",
       "    }\n",
       "\n",
       "    .dataframe thead th {\n",
       "        text-align: right;\n",
       "    }\n",
       "</style>\n",
       "<table border=\"1\" class=\"dataframe\">\n",
       "  <thead>\n",
       "    <tr style=\"text-align: right;\">\n",
       "      <th></th>\n",
       "      <th>group</th>\n",
       "      <th>active</th>\n",
       "      <th>median_check</th>\n",
       "      <th>mean_check</th>\n",
       "      <th>count_check</th>\n",
       "      <th>min_check</th>\n",
       "      <th>max_check</th>\n",
       "      <th>conv</th>\n",
       "    </tr>\n",
       "  </thead>\n",
       "  <tbody>\n",
       "    <tr>\n",
       "      <th>0</th>\n",
       "      <td>A</td>\n",
       "      <td>1538</td>\n",
       "      <td>585.0</td>\n",
       "      <td>933.589744</td>\n",
       "      <td>78</td>\n",
       "      <td>199.0</td>\n",
       "      <td>3660.0</td>\n",
       "      <td>5.071521</td>\n",
       "    </tr>\n",
       "    <tr>\n",
       "      <th>1</th>\n",
       "      <td>B</td>\n",
       "      <td>6803</td>\n",
       "      <td>1140.0</td>\n",
       "      <td>1257.878992</td>\n",
       "      <td>314</td>\n",
       "      <td>199.0</td>\n",
       "      <td>4650.0</td>\n",
       "      <td>4.615611</td>\n",
       "    </tr>\n",
       "  </tbody>\n",
       "</table>\n",
       "</div>"
      ],
      "text/plain": [
       "  group  active  median_check   mean_check  count_check  min_check  max_check  \\\n",
       "0     A    1538         585.0   933.589744           78      199.0     3660.0   \n",
       "1     B    6803        1140.0  1257.878992          314      199.0     4650.0   \n",
       "\n",
       "       conv  \n",
       "0  5.071521  \n",
       "1  4.615611  "
      ]
     },
     "execution_count": 70,
     "metadata": {},
     "output_type": "execute_result"
    }
   ],
   "source": [
    "mtrc = df.groupby('grp') \\\n",
    "    .agg({'student_id':'count', 'rev': ['median', 'mean', 'count', 'min', 'max']}) \\\n",
    "    .reset_index()\n",
    "mtrc.columns = [\n",
    "    'group', 'active', 'median_check', 'mean_check', 'count_check', 'min_check', 'max_check'\n",
    "                    ]\n",
    "ab = mtrc.groupby('group') \\\n",
    "    .apply(lambda x: x['count_check'].sum() / x['active'].sum()*100)\n",
    "\n",
    "mtrc['conv'] = mtrc['group'].map(ab)\n",
    "mtrc"
   ]
  },
  {
   "cell_type": "code",
   "execution_count": 71,
   "metadata": {},
   "outputs": [
    {
     "data": {
      "text/plain": [
       "<matplotlib.axes._subplots.AxesSubplot at 0x7f4fd1032e80>"
      ]
     },
     "execution_count": 71,
     "metadata": {},
     "output_type": "execute_result"
    },
    {
     "data": {
      "image/png": "[encoded data removed]",
      "text/plain": [
       "<Figure size 864x576 with 1 Axes>"
      ]
     },
     "metadata": {
      "needs_background": "light"
     },
     "output_type": "display_data"
    }
   ],
   "source": [
    "sns.histplot(data=df, x='rev', hue='grp')"
   ]
  },
  {
   "cell_type": "markdown",
   "metadata": {},
   "source": [
    "Как мы видим, распределение далеко от нормального. Но давайте, всё-таки, проверим это используя Шапиро-тест\n",
    "\n",
    "Наша выборка ну уж совсем маленькая(в А группе всего 78 человек), без бутстрапа тут не обойтись "
   ]
  },
  {
   "cell_type": "code",
   "execution_count": 72,
   "metadata": {},
   "outputs": [
    {
     "name": "stdout",
     "output_type": "stream",
     "text": [
      "ShapiroResult(statistic=0.7353236079216003, pvalue=1.4986822893803264e-10)\n"
     ]
    },
    {
     "data": {
      "text/plain": [
       "ShapiroResult(statistic=0.8547235727310181, pvalue=1.5437024585965894e-16)"
      ]
     },
     "execution_count": 72,
     "metadata": {},
     "output_type": "execute_result"
    }
   ],
   "source": [
    "print(stats.shapiro(df.query('grp==\"A\"')['rev'].dropna()))\n",
    "stats.shapiro(df.query('grp==\"B\"')['rev'].dropna())"
   ]
  },
  {
   "cell_type": "code",
   "execution_count": 73,
   "metadata": {},
   "outputs": [],
   "source": [
    "#Let's declare a function that will allow testing hypotheses using bootstrap\n",
    "def get_bootstrap(\n",
    "    data_column_1, # first sample numeric values\n",
    "    data_column_2, # second sample numeric values\n",
    "    boot_it = 1000, # number of bootstrap subsamples\n",
    "    statistic = np.mean, \n",
    "    bootstrap_conf_level = 0.95 \n",
    "):\n",
    "    boot_len = max([len(data_column_1), len(data_column_2)])\n",
    "    boot_data = []\n",
    "    for i in tqdm(range(boot_it)):\n",
    "        samples_1 = data_column_1.sample(\n",
    "            boot_len, \n",
    "            replace = True \n",
    "        ).values\n",
    "        \n",
    "        samples_2 = data_column_2.sample(\n",
    "            boot_len, \n",
    "            replace = True\n",
    "        ).values\n",
    "        \n",
    "        boot_data.append(statistic(samples_1-samples_2)) \n",
    "        \n",
    "    pd_boot_data = pd.DataFrame(boot_data)\n",
    "        \n",
    "    left_quant = (1 - bootstrap_conf_level)/2\n",
    "    right_quant = 1 - (1 - bootstrap_conf_level) / 2\n",
    "    ci = pd_boot_data.quantile([left_quant, right_quant])\n",
    "        \n",
    "    p_1 = norm.cdf(\n",
    "        x = 0, \n",
    "        loc = np.mean(boot_data), \n",
    "        scale = np.std(boot_data)\n",
    "    )\n",
    "    p_2 = norm.cdf(\n",
    "        x = 0, \n",
    "        loc = -np.mean(boot_data), \n",
    "        scale = np.std(boot_data)\n",
    "    )\n",
    "    p_value = min(p_1, p_2) * 2\n",
    "        \n",
    "    # Visualization\n",
    "    plt.hist(pd_boot_data[0], bins = 50)\n",
    "    \n",
    "    plt.style.use('ggplot')\n",
    "    plt.vlines(ci,ymin=0,ymax=50,linestyle='--')\n",
    "    plt.xlabel('boot_data')\n",
    "    plt.ylabel('frequency')\n",
    "    plt.title(\"Histogram of boot_data\")\n",
    "    plt.show()\n",
    "       \n",
    "    return {\"boot_data\": boot_data, \n",
    "            \"ci\": ci, \n",
    "            \"p_value\": p_value}"
   ]
  },
  {
   "cell_type": "code",
   "execution_count": 74,
   "metadata": {},
   "outputs": [
    {
     "data": {
      "application/vnd.jupyter.widget-view+json": {
       "model_id": "22e616da707e4d4a8beab27d687e11ec",
       "version_major": 2,
       "version_minor": 0
      },
      "text/plain": [
       "HBox(children=(FloatProgress(value=0.0, max=10000.0), HTML(value='')))"
      ]
     },
     "metadata": {},
     "output_type": "display_data"
    },
    {
     "name": "stdout",
     "output_type": "stream",
     "text": [
      "\n"
     ]
    },
    {
     "data": {
      "image/png": "[encoded data removed]",
      "text/plain": [
       "<Figure size 864x576 with 1 Axes>"
      ]
     },
     "metadata": {
      "needs_background": "light"
     },
     "output_type": "display_data"
    }
   ],
   "source": [
    "bootstrap =  get_bootstrap(df.query('grp == \"A\"')['rev'].dropna(),\n",
    "                     df.query('grp == \"B\"')['rev'].dropna(),\n",
    "                     boot_it = 10000, \n",
    "                     statistic = np.median, #Стат.критерий именно медиана, т.к распределение ненормально\n",
    "                     bootstrap_conf_level = 0.95)"
   ]
  },
  {
   "cell_type": "code",
   "execution_count": 75,
   "metadata": {},
   "outputs": [
    {
     "name": "stdout",
     "output_type": "stream",
     "text": [
      "1.8274982286843463e-05\n"
     ]
    },
    {
     "data": {
      "text/html": [
       "<div>\n",
       "<style scoped>\n",
       "    .dataframe tbody tr th:only-of-type {\n",
       "        vertical-align: middle;\n",
       "    }\n",
       "\n",
       "    .dataframe tbody tr th {\n",
       "        vertical-align: top;\n",
       "    }\n",
       "\n",
       "    .dataframe thead th {\n",
       "        text-align: right;\n",
       "    }\n",
       "</style>\n",
       "<table border=\"1\" class=\"dataframe\">\n",
       "  <thead>\n",
       "    <tr style=\"text-align: right;\">\n",
       "      <th></th>\n",
       "      <th>0</th>\n",
       "    </tr>\n",
       "  </thead>\n",
       "  <tbody>\n",
       "    <tr>\n",
       "      <th>0.025</th>\n",
       "      <td>-565.0</td>\n",
       "    </tr>\n",
       "    <tr>\n",
       "      <th>0.975</th>\n",
       "      <td>-224.5</td>\n",
       "    </tr>\n",
       "  </tbody>\n",
       "</table>\n",
       "</div>"
      ],
      "text/plain": [
       "           0\n",
       "0.025 -565.0\n",
       "0.975 -224.5"
      ]
     },
     "execution_count": 75,
     "metadata": {},
     "output_type": "execute_result"
    }
   ],
   "source": [
    "print(bootstrap[\"p_value\"])\n",
    "bootstrap[\"ci\"]"
   ]
  },
  {
   "cell_type": "code",
   "execution_count": 76,
   "metadata": {},
   "outputs": [
    {
     "data": {
      "text/plain": [
       "555.0"
      ]
     },
     "execution_count": 76,
     "metadata": {},
     "output_type": "execute_result"
    }
   ],
   "source": [
    "df.query(\"grp == 'B'\").rev.median() - df.query(\"grp == 'A'\").rev.median()"
   ]
  },
  {
   "cell_type": "code",
   "execution_count": null,
   "metadata": {},
   "outputs": [],
   "source": []
  },
  {
   "cell_type": "markdown",
   "metadata": {},
   "source": [
    "P_value < 0.05, различия статистически значимы.  Можно сделать вывод, что новая механика оплаты оказалась более удобной для пользователей, можно запускать ее на всех пользователей"
   ]
  },
  {
   "cell_type": "markdown",
   "metadata": {},
   "source": [
    "2 TASK"
   ]
  },
  {
   "cell_type": "code",
   "execution_count": 77,
   "metadata": {},
   "outputs": [],
   "source": [
    "import sqlite3"
   ]
  },
  {
   "cell_type": "code",
   "execution_count": 78,
   "metadata": {},
   "outputs": [],
   "source": [
    "sqlite3.sqlite_version\n",
    "con = sqlite3.connect('db')\n",
    "\n",
    "def select(sql):\n",
    "  return pd.read_sql(sql,con)"
   ]
  },
  {
   "cell_type": "code",
   "execution_count": null,
   "metadata": {},
   "outputs": [],
   "source": []
  },
  {
   "cell_type": "markdown",
   "metadata": {},
   "source": [
    "2.1.1 Условие\n",
    "\n",
    "Образовательные курсы состоят из различных уроков, каждый из которых состоит из нескольких маленьких заданий. Каждое такое маленькое задание называется \"горошиной\".\n",
    "\n",
    "Назовём очень усердным учеником того пользователя, который хотя бы раз за текущий месяц правильно решил 20 горошин за час."
   ]
  },
  {
   "cell_type": "code",
   "execution_count": 79,
   "metadata": {},
   "outputs": [
    {
     "data": {
      "text/html": [
       "<div>\n",
       "<style scoped>\n",
       "    .dataframe tbody tr th:only-of-type {\n",
       "        vertical-align: middle;\n",
       "    }\n",
       "\n",
       "    .dataframe tbody tr th {\n",
       "        vertical-align: top;\n",
       "    }\n",
       "\n",
       "    .dataframe thead th {\n",
       "        text-align: right;\n",
       "    }\n",
       "</style>\n",
       "<table border=\"1\" class=\"dataframe\">\n",
       "  <thead>\n",
       "    <tr style=\"text-align: right;\">\n",
       "      <th></th>\n",
       "      <th>st_id</th>\n",
       "      <th>timest</th>\n",
       "      <th>correct</th>\n",
       "      <th>subject</th>\n",
       "    </tr>\n",
       "  </thead>\n",
       "  <tbody>\n",
       "    <tr>\n",
       "      <th>0</th>\n",
       "      <td>52</td>\n",
       "      <td>2020-03-28 01:06:00</td>\n",
       "      <td>False</td>\n",
       "      <td>sql</td>\n",
       "    </tr>\n",
       "    <tr>\n",
       "      <th>1</th>\n",
       "      <td>51</td>\n",
       "      <td>2020-03-27 00:03:00</td>\n",
       "      <td>True</td>\n",
       "      <td>sql</td>\n",
       "    </tr>\n",
       "    <tr>\n",
       "      <th>2</th>\n",
       "      <td>48</td>\n",
       "      <td>2020-03-13 02:07:00</td>\n",
       "      <td>True</td>\n",
       "      <td>stat</td>\n",
       "    </tr>\n",
       "    <tr>\n",
       "      <th>3</th>\n",
       "      <td>5</td>\n",
       "      <td>2020-03-09 02:02:00</td>\n",
       "      <td>True</td>\n",
       "      <td>stat</td>\n",
       "    </tr>\n",
       "    <tr>\n",
       "      <th>4</th>\n",
       "      <td>39</td>\n",
       "      <td>2020-03-31 01:03:00</td>\n",
       "      <td>True</td>\n",
       "      <td>sql</td>\n",
       "    </tr>\n",
       "  </tbody>\n",
       "</table>\n",
       "</div>"
      ],
      "text/plain": [
       "   st_id              timest  correct subject\n",
       "0     52 2020-03-28 01:06:00    False     sql\n",
       "1     51 2020-03-27 00:03:00     True     sql\n",
       "2     48 2020-03-13 02:07:00     True    stat\n",
       "3      5 2020-03-09 02:02:00     True    stat\n",
       "4     39 2020-03-31 01:03:00     True     sql"
      ]
     },
     "execution_count": 79,
     "metadata": {},
     "output_type": "execute_result"
    }
   ],
   "source": [
    "#Для удобства создадим таблицу\n",
    "correct = np.random.choice([True, False], size=5000, p=[0.8, 0.2])\n",
    "subjects = np.random.choice(['math', 'stat', 'python', 'sql'], \n",
    "                      size=5000, p=[0.25, 0.25, 0.25, 0.25])\n",
    "st_id = np.random.randint(0, 65, size=5000)\n",
    "date = pd.to_datetime(\n",
    "    pd.Series(np.random.choice(pd.date_range(start='2020/03/01', end='2020/03/31'),\n",
    "                                 size=5000)).astype('str') + ' ' +\n",
    "    pd.Series(np.random.choice(3, size=5000)).astype('str') + ':' +\n",
    "    pd.Series(np.random.choice(10, size=5000)).astype('str')) \n",
    "\n",
    "peas = pd.DataFrame({'st_id': st_id,\n",
    "                       'timest': date,\n",
    "                       'correct': correct,\n",
    "                       'subject': subjects})\n",
    "\n",
    "peas.to_sql('peas',con,index=False,if_exists='replace')\n",
    "peas.head()"
   ]
  },
  {
   "cell_type": "code",
   "execution_count": 80,
   "metadata": {},
   "outputs": [
    {
     "data": {
      "text/html": [
       "<div>\n",
       "<style scoped>\n",
       "    .dataframe tbody tr th:only-of-type {\n",
       "        vertical-align: middle;\n",
       "    }\n",
       "\n",
       "    .dataframe tbody tr th {\n",
       "        vertical-align: top;\n",
       "    }\n",
       "\n",
       "    .dataframe thead th {\n",
       "        text-align: right;\n",
       "    }\n",
       "</style>\n",
       "<table border=\"1\" class=\"dataframe\">\n",
       "  <thead>\n",
       "    <tr style=\"text-align: right;\">\n",
       "      <th></th>\n",
       "      <th>able_student</th>\n",
       "      <th>corr_20pea</th>\n",
       "    </tr>\n",
       "  </thead>\n",
       "  <tbody>\n",
       "    <tr>\n",
       "      <th>0</th>\n",
       "      <td>0</td>\n",
       "      <td>None</td>\n",
       "    </tr>\n",
       "  </tbody>\n",
       "</table>\n",
       "</div>"
      ],
      "text/plain": [
       "   able_student corr_20pea\n",
       "0             0       None"
      ]
     },
     "execution_count": 80,
     "metadata": {},
     "output_type": "execute_result"
    }
   ],
   "source": [
    "select(\n",
    "    '''SELECT\n",
    "    count(DISTINCT st_id) able_student,\n",
    "    corr_20pea\n",
    "FROM (\n",
    "    SELECT\n",
    "        st_id, \n",
    "        correct,\n",
    "        max(time) OVER (PARTITION BY st_id ORDER BY time ROWS BETWEEN 19 FOLLOWING AND 19 FOLLOWING) - time corr_20pea\n",
    "    FROM (\n",
    "        SELECT \n",
    "            st_id, \n",
    "            correct,\n",
    "            strftime('%d', timest) * 86400 + strftime('%H', timest) * 3600 + strftime('%M', timest) * 60 time\n",
    "        FROM \n",
    "            peas\n",
    "        )\n",
    "        WHERE correct = True\n",
    "\n",
    "    )\n",
    "WHERE corr_20pea <= 3600\n",
    "'''\n",
    "      )"
   ]
  },
  {
   "cell_type": "code",
   "execution_count": 81,
   "metadata": {},
   "outputs": [
    {
     "data": {
      "text/html": [
       "<div>\n",
       "<style scoped>\n",
       "    .dataframe tbody tr th:only-of-type {\n",
       "        vertical-align: middle;\n",
       "    }\n",
       "\n",
       "    .dataframe tbody tr th {\n",
       "        vertical-align: top;\n",
       "    }\n",
       "\n",
       "    .dataframe thead th {\n",
       "        text-align: right;\n",
       "    }\n",
       "</style>\n",
       "<table border=\"1\" class=\"dataframe\">\n",
       "  <thead>\n",
       "    <tr style=\"text-align: right;\">\n",
       "      <th></th>\n",
       "      <th>max(timest)</th>\n",
       "    </tr>\n",
       "  </thead>\n",
       "  <tbody>\n",
       "    <tr>\n",
       "      <th>0</th>\n",
       "      <td>2020-03-31 02:09:00</td>\n",
       "    </tr>\n",
       "  </tbody>\n",
       "</table>\n",
       "</div>"
      ],
      "text/plain": [
       "           max(timest)\n",
       "0  2020-03-31 02:09:00"
      ]
     },
     "execution_count": 81,
     "metadata": {},
     "output_type": "execute_result"
    }
   ],
   "source": [
    "select('''SELECT max(timest)\n",
    "FROM peas ''')\n"
   ]
  },
  {
   "cell_type": "markdown",
   "metadata": {},
   "source": [
    "2.2.1 Условие\n",
    "\n",
    "Образовательная платформа предлагает пройти студентам курсы по модели trial: студент может решить бесплатно лишь 30 горошин в день. Для неограниченного количества заданий в определенной дисциплине студенту необходимо приобрести полный доступ. Команда провела эксперимент, где был протестирован новый экран оплаты."
   ]
  },
  {
   "cell_type": "code",
   "execution_count": 82,
   "metadata": {},
   "outputs": [],
   "source": [
    "#Таблица для удобства\n",
    "studs = pd.DataFrame(\n",
    "    {'st_id': np.arange(peas['st_id'].nunique()),\n",
    "                        'test_grp': np.random.choice(['a', 'b'], size=peas['st_id'].nunique(), \n",
    "                                                     p=[0.6, 0.4])})\n",
    "\n",
    "studs = studs.to_sql('studs', con, index=False, if_exists='replace')\n",
    "studs"
   ]
  },
  {
   "cell_type": "code",
   "execution_count": 83,
   "metadata": {},
   "outputs": [],
   "source": [
    "correct = np.random.choice([True, False], size=5000, p=[0.8, 0.2])\n",
    "\n",
    "subjects = np.random.choice(['math', 'stat', 'python', 'sql'], \n",
    "                            size=300, p=[0.25, 0.25, 0.25, 0.25])\n",
    "money = np.random.choice(np.arange(50, 400), size=300)\n",
    "st_id = np.random.randint(0, 65, size=300)\n",
    "\n",
    "sale_time = pd.to_datetime(\n",
    "    pd.Series(np.random.choice(pd.date_range(start='2020/03/01', end='2020/03/31'),\n",
    "                                 size=300)).astype('str') + ' ' +\n",
    "    pd.Series(np.random.choice(3, size=300)).astype('str') + ':' +\n",
    "    pd.Series(np.random.choice(10, size=300)).astype('str')\n",
    "                                    ) \n",
    "\n",
    "checks = pd.DataFrame({'st_id': st_id,\n",
    "                        'sale_time': sale_time,\n",
    "                        'money': money,\n",
    "                        'subject': subjects})\n",
    "\n",
    "checks = checks.to_sql('checks', con, index=False, if_exists='replace')\n"
   ]
  },
  {
   "cell_type": "code",
   "execution_count": 84,
   "metadata": {},
   "outputs": [
    {
     "data": {
      "text/html": [
       "<div>\n",
       "<style scoped>\n",
       "    .dataframe tbody tr th:only-of-type {\n",
       "        vertical-align: middle;\n",
       "    }\n",
       "\n",
       "    .dataframe tbody tr th {\n",
       "        vertical-align: top;\n",
       "    }\n",
       "\n",
       "    .dataframe thead th {\n",
       "        text-align: right;\n",
       "    }\n",
       "</style>\n",
       "<table border=\"1\" class=\"dataframe\">\n",
       "  <thead>\n",
       "    <tr style=\"text-align: right;\">\n",
       "      <th></th>\n",
       "      <th>ARPU</th>\n",
       "      <th>ARPAU</th>\n",
       "      <th>CR в покупку</th>\n",
       "      <th>CR активного пользователя в покупку</th>\n",
       "    </tr>\n",
       "  </thead>\n",
       "  <tbody>\n",
       "    <tr>\n",
       "      <th>0</th>\n",
       "      <td>1011.0</td>\n",
       "      <td>65725.0</td>\n",
       "      <td>1.0</td>\n",
       "      <td>0.0</td>\n",
       "    </tr>\n",
       "  </tbody>\n",
       "</table>\n",
       "</div>"
      ],
      "text/plain": [
       "     ARPU    ARPAU  CR в покупку  CR активного пользователя в покупку\n",
       "0  1011.0  65725.0           1.0                                  0.0"
      ]
     },
     "execution_count": 84,
     "metadata": {},
     "output_type": "execute_result"
    }
   ],
   "source": [
    "select('''\n",
    "SELECT\n",
    "    round(total_revenue / total_users) AS ARPU,\n",
    "    round(total_revenue / r.active_users) AS ARPAU,\n",
    "    round(total_users / total_number_sales) AS \"CR в покупку\",\n",
    "    round(active_users / total_number_sales) AS \"CR активного пользователя в покупку\"\n",
    "  FROM (\n",
    "        SELECT \n",
    "            studs.test_grp,\n",
    "            sum(checks.money) as total_revenue,\n",
    "            count(DISTINCT checks.st_id) total_number_sales\n",
    "          FROM \n",
    "              checks\n",
    "        left join \n",
    "              studs on checks.st_id = studs.st_id\n",
    "        ) as t\n",
    "  left join (\n",
    "            SELECT \n",
    "                studs.test_grp,\n",
    "                count(distinct peas.st_id) as total_users,\n",
    "                count(DISTINCT peas.correct) as active_users\n",
    "            FROM  \n",
    "                peas\n",
    "                left join\n",
    "                    studs on peas.st_id = studs.st_id\n",
    "            where peas.subject=\"math\" and peas.correct == true\n",
    "                ) as r \n",
    "    on t.test_grp = r.test_grp\n",
    "GROUP BY r.test_grp\n",
    "''')"
   ]
  },
  {
   "cell_type": "markdown",
   "metadata": {},
   "source": [
    "TASK 3"
   ]
  },
  {
   "cell_type": "markdown",
   "metadata": {},
   "source": [
    "3.1 Задача\n",
    "\n",
    "    Реализуйте функцию, которая будет автоматически подгружать информацию из дополнительного файла groups_add.csv (заголовки могут отличаться) и на основании дополнительных параметров пересчитывать метрики.\n",
    "    Реализуйте функцию, которая будет строить графики по получаемым метрикам."
   ]
  },
  {
   "cell_type": "code",
   "execution_count": 85,
   "metadata": {},
   "outputs": [],
   "source": [
    "def read_add_file():\n",
    "    groups = pd.read_csv(\"Проект_2_groups.csv\", sep=\";\")\n",
    "    active_studs = pd.read_csv(\"Проект_2_active_studs.csv\", sep=\";\")\n",
    "    checks = pd.read_csv(\"Проект_2_checks.csv\", sep=\";\")\n",
    "    group_add = pd.read_csv('Проект_2_group_add.csv', sep=\",\")\n",
    "    group_add.columns = ['id', 'grp']\n",
    "    full_group = pd.concat([groups, group_add], ignore_index=True)\n",
    "    df1 = active_studs.merge(full_group, left_on='student_id', right_on='id')\n",
    "    df = df1.merge(checks, how='left', on='student_id')\n",
    "    return df\n",
    "\n",
    "def recalc_metrics(df):\n",
    "    metrics = df.groupby('grp') \\\n",
    "        .agg({'student_id':'count', 'rev': ['median', 'mean', 'count', 'min', 'max']}) \\\n",
    "        .reset_index()\n",
    "    metrics.columns = [\n",
    "        'group', 'active', 'median_check', 'mean_check', 'count_check', 'min_check', 'max_check'\n",
    "                        ]\n",
    "    ab = metrics.groupby('group') \\\n",
    "        .apply(lambda x: x['count_check'].sum() / x['active'].sum()*100)\n",
    "\n",
    "    metrics['conv'] = metrics['group'].map(ab)\n",
    "    return metrics\n",
    "\n",
    "        \n",
    "def df():\n",
    "    df = read_add_file()\n",
    "    data = recalc_metrics(df)"
   ]
  },
  {
   "cell_type": "code",
   "execution_count": null,
   "metadata": {},
   "outputs": [],
   "source": []
  },
  {
   "cell_type": "code",
   "execution_count": 86,
   "metadata": {},
   "outputs": [
    {
     "data": {
      "text/html": [
       "<div>\n",
       "<style scoped>\n",
       "    .dataframe tbody tr th:only-of-type {\n",
       "        vertical-align: middle;\n",
       "    }\n",
       "\n",
       "    .dataframe tbody tr th {\n",
       "        vertical-align: top;\n",
       "    }\n",
       "\n",
       "    .dataframe thead th {\n",
       "        text-align: right;\n",
       "    }\n",
       "</style>\n",
       "<table border=\"1\" class=\"dataframe\">\n",
       "  <thead>\n",
       "    <tr style=\"text-align: right;\">\n",
       "      <th></th>\n",
       "      <th>group</th>\n",
       "      <th>active</th>\n",
       "      <th>median_check</th>\n",
       "      <th>mean_check</th>\n",
       "      <th>count_check</th>\n",
       "      <th>min_check</th>\n",
       "      <th>max_check</th>\n",
       "      <th>conv</th>\n",
       "    </tr>\n",
       "  </thead>\n",
       "  <tbody>\n",
       "    <tr>\n",
       "      <th>0</th>\n",
       "      <td>A</td>\n",
       "      <td>1538</td>\n",
       "      <td>585.0</td>\n",
       "      <td>933.589744</td>\n",
       "      <td>78</td>\n",
       "      <td>199.0</td>\n",
       "      <td>3660.0</td>\n",
       "      <td>5.071521</td>\n",
       "    </tr>\n",
       "    <tr>\n",
       "      <th>1</th>\n",
       "      <td>B</td>\n",
       "      <td>6803</td>\n",
       "      <td>1140.0</td>\n",
       "      <td>1257.878992</td>\n",
       "      <td>314</td>\n",
       "      <td>199.0</td>\n",
       "      <td>4650.0</td>\n",
       "      <td>4.615611</td>\n",
       "    </tr>\n",
       "  </tbody>\n",
       "</table>\n",
       "</div>"
      ],
      "text/plain": [
       "  group  active  median_check   mean_check  count_check  min_check  max_check  \\\n",
       "0     A    1538         585.0   933.589744           78      199.0     3660.0   \n",
       "1     B    6803        1140.0  1257.878992          314      199.0     4650.0   \n",
       "\n",
       "       conv  \n",
       "0  5.071521  \n",
       "1  4.615611  "
      ]
     },
     "execution_count": 86,
     "metadata": {},
     "output_type": "execute_result"
    }
   ],
   "source": [
    "df=read_add_file()\n",
    "daa = recalc_metrics(df)\n",
    "daa"
   ]
  },
  {
   "cell_type": "code",
   "execution_count": 87,
   "metadata": {},
   "outputs": [],
   "source": [
    "\n",
    "def graph(df, metrics='metrics'):\n",
    "    sns.barplot(y='group', x=metrics, data=df)"
   ]
  },
  {
   "cell_type": "markdown",
   "metadata": {},
   "source": [
    "Метрики на выбор: active, median_check, mean_check, count_check,\n",
    "      min_check, max_check, conv"
   ]
  },
  {
   "cell_type": "code",
   "execution_count": 88,
   "metadata": {},
   "outputs": [
    {
     "data": {
      "image/png": "[encoded data removed]",
      "text/plain": [
       "<Figure size 864x576 with 1 Axes>"
      ]
     },
     "metadata": {},
     "output_type": "display_data"
    }
   ],
   "source": [
    "graph(daa, metrics='max_check')\n"
   ]
  },
  {
   "cell_type": "code",
   "execution_count": null,
   "metadata": {},
   "outputs": [],
   "source": []
  }
 ],
 "metadata": {
  "kernelspec": {
   "display_name": "Python 3",
   "language": "python",
   "name": "python3"
  },
  "language_info": {
   "codemirror_mode": {
    "name": "ipython",
    "version": 3
   },
   "file_extension": ".py",
   "mimetype": "text/x-python",
   "name": "python",
   "nbconvert_exporter": "python",
   "pygments_lexer": "ipython3",
   "version": "3.7.3"
  }
 },
 "nbformat": 4,
 "nbformat_minor": 4
}
